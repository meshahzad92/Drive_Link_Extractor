{
  "nbformat": 4,
  "nbformat_minor": 0,
  "metadata": {
    "colab": {
      "provenance": []
    },
    "kernelspec": {
      "name": "python3",
      "display_name": "Python 3"
    },
    "language_info": {
      "name": "python"
    }
  },
  "cells": [
    {
      "cell_type": "markdown",
      "source": [
        "# **Installations**\n"
      ],
      "metadata": {
        "id": "Rig7fMOBopEK"
      }
    },
    {
      "cell_type": "code",
      "execution_count": 9,
      "metadata": {
        "colab": {
          "base_uri": "https://localhost:8080/"
        },
        "id": "eXiGP5cMNEDM",
        "outputId": "9686165e-7a9f-4db7-8b29-c5cb8e828d3b"
      },
      "outputs": [
        {
          "output_type": "stream",
          "name": "stdout",
          "text": [
            "Requirement already satisfied: google-auth in /usr/local/lib/python3.11/dist-packages (2.38.0)\n",
            "Requirement already satisfied: google-auth-oauthlib in /usr/local/lib/python3.11/dist-packages (1.2.1)\n",
            "Requirement already satisfied: google-auth-httplib2 in /usr/local/lib/python3.11/dist-packages (0.2.0)\n",
            "Requirement already satisfied: google-api-python-client in /usr/local/lib/python3.11/dist-packages (2.160.0)\n",
            "Requirement already satisfied: pandas in /usr/local/lib/python3.11/dist-packages (2.2.2)\n",
            "Requirement already satisfied: cachetools<6.0,>=2.0.0 in /usr/local/lib/python3.11/dist-packages (from google-auth) (5.5.2)\n",
            "Requirement already satisfied: pyasn1-modules>=0.2.1 in /usr/local/lib/python3.11/dist-packages (from google-auth) (0.4.1)\n",
            "Requirement already satisfied: rsa<5,>=3.1.4 in /usr/local/lib/python3.11/dist-packages (from google-auth) (4.9)\n",
            "Requirement already satisfied: requests-oauthlib>=0.7.0 in /usr/local/lib/python3.11/dist-packages (from google-auth-oauthlib) (2.0.0)\n",
            "Requirement already satisfied: httplib2>=0.19.0 in /usr/local/lib/python3.11/dist-packages (from google-auth-httplib2) (0.22.0)\n",
            "Requirement already satisfied: google-api-core!=2.0.*,!=2.1.*,!=2.2.*,!=2.3.0,<3.0.0.dev0,>=1.31.5 in /usr/local/lib/python3.11/dist-packages (from google-api-python-client) (2.24.1)\n",
            "Requirement already satisfied: uritemplate<5,>=3.0.1 in /usr/local/lib/python3.11/dist-packages (from google-api-python-client) (4.1.1)\n",
            "Requirement already satisfied: numpy>=1.23.2 in /usr/local/lib/python3.11/dist-packages (from pandas) (1.26.4)\n",
            "Requirement already satisfied: python-dateutil>=2.8.2 in /usr/local/lib/python3.11/dist-packages (from pandas) (2.8.2)\n",
            "Requirement already satisfied: pytz>=2020.1 in /usr/local/lib/python3.11/dist-packages (from pandas) (2025.1)\n",
            "Requirement already satisfied: tzdata>=2022.7 in /usr/local/lib/python3.11/dist-packages (from pandas) (2025.1)\n",
            "Requirement already satisfied: googleapis-common-protos<2.0.dev0,>=1.56.2 in /usr/local/lib/python3.11/dist-packages (from google-api-core!=2.0.*,!=2.1.*,!=2.2.*,!=2.3.0,<3.0.0.dev0,>=1.31.5->google-api-python-client) (1.68.0)\n",
            "Requirement already satisfied: protobuf!=3.20.0,!=3.20.1,!=4.21.0,!=4.21.1,!=4.21.2,!=4.21.3,!=4.21.4,!=4.21.5,<6.0.0.dev0,>=3.19.5 in /usr/local/lib/python3.11/dist-packages (from google-api-core!=2.0.*,!=2.1.*,!=2.2.*,!=2.3.0,<3.0.0.dev0,>=1.31.5->google-api-python-client) (4.25.6)\n",
            "Requirement already satisfied: proto-plus<2.0.0dev,>=1.22.3 in /usr/local/lib/python3.11/dist-packages (from google-api-core!=2.0.*,!=2.1.*,!=2.2.*,!=2.3.0,<3.0.0.dev0,>=1.31.5->google-api-python-client) (1.26.0)\n",
            "Requirement already satisfied: requests<3.0.0.dev0,>=2.18.0 in /usr/local/lib/python3.11/dist-packages (from google-api-core!=2.0.*,!=2.1.*,!=2.2.*,!=2.3.0,<3.0.0.dev0,>=1.31.5->google-api-python-client) (2.32.3)\n",
            "Requirement already satisfied: pyparsing!=3.0.0,!=3.0.1,!=3.0.2,!=3.0.3,<4,>=2.4.2 in /usr/local/lib/python3.11/dist-packages (from httplib2>=0.19.0->google-auth-httplib2) (3.2.1)\n",
            "Requirement already satisfied: pyasn1<0.7.0,>=0.4.6 in /usr/local/lib/python3.11/dist-packages (from pyasn1-modules>=0.2.1->google-auth) (0.6.1)\n",
            "Requirement already satisfied: six>=1.5 in /usr/local/lib/python3.11/dist-packages (from python-dateutil>=2.8.2->pandas) (1.17.0)\n",
            "Requirement already satisfied: oauthlib>=3.0.0 in /usr/local/lib/python3.11/dist-packages (from requests-oauthlib>=0.7.0->google-auth-oauthlib) (3.2.2)\n",
            "Requirement already satisfied: charset-normalizer<4,>=2 in /usr/local/lib/python3.11/dist-packages (from requests<3.0.0.dev0,>=2.18.0->google-api-core!=2.0.*,!=2.1.*,!=2.2.*,!=2.3.0,<3.0.0.dev0,>=1.31.5->google-api-python-client) (3.4.1)\n",
            "Requirement already satisfied: idna<4,>=2.5 in /usr/local/lib/python3.11/dist-packages (from requests<3.0.0.dev0,>=2.18.0->google-api-core!=2.0.*,!=2.1.*,!=2.2.*,!=2.3.0,<3.0.0.dev0,>=1.31.5->google-api-python-client) (3.10)\n",
            "Requirement already satisfied: urllib3<3,>=1.21.1 in /usr/local/lib/python3.11/dist-packages (from requests<3.0.0.dev0,>=2.18.0->google-api-core!=2.0.*,!=2.1.*,!=2.2.*,!=2.3.0,<3.0.0.dev0,>=1.31.5->google-api-python-client) (2.3.0)\n",
            "Requirement already satisfied: certifi>=2017.4.17 in /usr/local/lib/python3.11/dist-packages (from requests<3.0.0.dev0,>=2.18.0->google-api-core!=2.0.*,!=2.1.*,!=2.2.*,!=2.3.0,<3.0.0.dev0,>=1.31.5->google-api-python-client) (2025.1.31)\n"
          ]
        }
      ],
      "source": [
        "pip install google-auth google-auth-oauthlib google-auth-httplib2 google-api-python-client pandas\n"
      ]
    },
    {
      "cell_type": "markdown",
      "source": [
        "# **Drive Link Extractor**\n"
      ],
      "metadata": {
        "id": "A7ST709pox1k"
      }
    },
    {
      "cell_type": "code",
      "source": [
        "import os\n",
        "import json\n",
        "import pickle\n",
        "import pandas as pd\n",
        "from google.colab import auth\n",
        "from google.auth.transport.requests import Request\n",
        "from googleapiclient.discovery import build\n",
        "import google.auth\n",
        "from google.auth import credentials"
      ],
      "metadata": {
        "id": "BT63oaQJo9fi"
      },
      "execution_count": 25,
      "outputs": []
    },
    {
      "cell_type": "code",
      "source": [
        "# Define the scope for accessing Google Drive\n",
        "SCOPES = ['https://www.googleapis.com/auth/drive.readonly']\n",
        "PROGRESS_FILE = 'progress.json'\n"
      ],
      "metadata": {
        "id": "vcVLopq4pC6J"
      },
      "execution_count": 26,
      "outputs": []
    },
    {
      "cell_type": "code",
      "source": [
        "def initialize_progress():\n",
        "    if not os.path.exists(PROGRESS_FILE):\n",
        "        with open(PROGRESS_FILE, 'w') as f:\n",
        "            json.dump({\n",
        "                'processed_rows': 0,\n",
        "                'total_rows': 0,\n",
        "                'last_successful_row': 0\n",
        "            }, f)\n",
        "\n",
        "def load_progress():\n",
        "    with open(PROGRESS_FILE, 'r') as f:\n",
        "        return json.load(f)\n",
        "\n",
        "def save_progress(processed, total, last_successful):\n",
        "    with open(PROGRESS_FILE, 'w') as f:\n",
        "        json.dump({\n",
        "            'processed_rows': processed,\n",
        "            'total_rows': total,\n",
        "            'last_successful_row': last_successful\n",
        "        }, f)\n",
        "\n",
        "def authenticate_google_drive():\n",
        "    creds = None\n",
        "    if os.path.exists('token.pickle'):\n",
        "        with open('token.pickle', 'rb') as token:\n",
        "            creds = pickle.load(token)\n",
        "\n",
        "    if not creds or not creds.valid:\n",
        "        if creds and creds.expired and creds.refresh_token:\n",
        "            creds.refresh(Request())\n",
        "        else:\n",
        "            auth.authenticate_user()\n",
        "            creds, _ = google.auth.default(scopes=SCOPES)\n",
        "\n",
        "        with open('token.pickle', 'wb') as token:\n",
        "            pickle.dump(creds, token)\n",
        "\n",
        "    return build('drive', 'v3', credentials=creds)\n",
        "\n",
        "def list_files_in_folder(service, folder_id):\n",
        "    all_files = []\n",
        "    page_token = None\n",
        "    query = f\"'{folder_id}' in parents\"\n",
        "\n",
        "    while True:\n",
        "        results = service.files().list(\n",
        "            q=query,\n",
        "            fields=\"files(id, name, mimeType, parents, webViewLink), nextPageToken\",\n",
        "            pageToken=page_token\n",
        "        ).execute()\n",
        "\n",
        "        files = results.get('files', [])\n",
        "        for file in files:\n",
        "            if file['mimeType'] != 'application/vnd.google-apps.folder':\n",
        "                all_files.append(file)\n",
        "            else:\n",
        "                all_files.extend(list_files_in_folder(service, file['id']))\n",
        "\n",
        "        page_token = results.get('nextPageToken')\n",
        "        if not page_token:\n",
        "            break\n",
        "\n",
        "    return all_files\n",
        "\n",
        "def extract_image_name(hyperlink_formula):\n",
        "    if isinstance(hyperlink_formula, str):\n",
        "        start = hyperlink_formula.find('\"') + 1\n",
        "        end = hyperlink_formula.rfind('\"')\n",
        "        return hyperlink_formula[start:end].split(\"\\\\\")[-1]\n",
        "    return \"\"\n",
        "\n",
        "def find_image_url(service, folder_ids, image_name):\n",
        "    for folder_id in folder_ids:\n",
        "        files = list_files_in_folder(service, folder_id)\n",
        "        for file in files:\n",
        "            if file['mimeType'] == 'application/vnd.google-apps.folder':\n",
        "                continue\n",
        "            if image_name.lower() in file['name'].lower():\n",
        "                return file.get('webViewLink', '')\n",
        "    return None\n",
        "\n",
        "def update_csv_with_screenshot(csv_file, folder_ids, service):\n",
        "    initialize_progress()\n",
        "    progress = load_progress()\n",
        "\n",
        "    df = pd.read_csv(csv_file)\n",
        "    total_rows = len(df)\n",
        "\n",
        "    # Initialize new column if not exists\n",
        "    if 'Drive Link' not in df.columns:\n",
        "        df['Drive Link'] = None\n",
        "\n",
        "    # Resume from last successful row\n",
        "    start_row = progress['last_successful_row']\n",
        "\n",
        "    for index in range(start_row, total_rows):\n",
        "        row = df.iloc[index]\n",
        "        print(f\"\\nProcessing row {index + 1}/{total_rows}\")\n",
        "\n",
        "        screenshot_formula = row['ScreenShot']\n",
        "        result = \"No screenshot provided\"\n",
        "\n",
        "        if pd.notna(screenshot_formula):\n",
        "            image_name = extract_image_name(screenshot_formula)\n",
        "            if image_name:\n",
        "                screenshot_url = find_image_url(service, folder_ids, image_name)\n",
        "                result = screenshot_url if screenshot_url else \"Image not found\"\n",
        "            else:\n",
        "                result = \"Invalid hyperlink\"\n",
        "\n",
        "        # Update dataframe\n",
        "        df.at[index, 'Drive Link'] = result\n",
        "\n",
        "        # Save incremental progress\n",
        "        df.to_csv(\"updated_\" + csv_file, index=False)\n",
        "        save_progress(index + 1, total_rows, index)\n",
        "        print(f\"Saved results up to row {index + 1}\")\n",
        "\n",
        "    # Final completion update\n",
        "    save_progress(total_rows, total_rows, total_rows - 1)\n",
        "    print(\"\\nProcessing complete! Final results saved to updated_\" + csv_file)\n"
      ],
      "metadata": {
        "id": "SO44pZyuNqrt"
      },
      "execution_count": 27,
      "outputs": []
    },
    {
      "cell_type": "code",
      "source": [
        "def main():\n",
        "    folder_ids = [\n",
        "        'Folder_1',\n",
        "        'Folder_2'\n",
        "    ]\n",
        "    csv_file = 'Your_csv.csv'\n",
        "\n",
        "    service = authenticate_google_drive()\n",
        "    update_csv_with_screenshot(csv_file, folder_ids, service)\n",
        "\n",
        "if __name__ == '__main__':\n",
        "    main()"
      ],
      "metadata": {
        "colab": {
          "base_uri": "https://localhost:8080/"
        },
        "id": "YYCkgFjJpGht",
        "outputId": "50a42743-df9d-4536-f985-a01b29979515"
      },
      "execution_count": 29,
      "outputs": [
        {
          "output_type": "stream",
          "name": "stdout",
          "text": [
            "\n",
            "Processing row 746/746\n",
            "Saved results up to row 746\n",
            "\n",
            "Processing complete! Final results saved to updated_leads_combined.csv\n"
          ]
        }
      ]
    }
  ]
}